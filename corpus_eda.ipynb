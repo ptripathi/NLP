{
  "nbformat": 4,
  "nbformat_minor": 0,
  "metadata": {
    "colab": {
      "name": "corpus_eda.ipynb",
      "version": "0.3.2",
      "provenance": [],
      "collapsed_sections": [],
      "include_colab_link": true
    },
    "kernelspec": {
      "name": "python3",
      "display_name": "Python 3"
    }
  },
  "cells": [
    {
      "cell_type": "markdown",
      "metadata": {
        "id": "view-in-github",
        "colab_type": "text"
      },
      "source": [
        "<a href=\"https://colab.research.google.com/github/ptripathi/NLP/blob/master/corpus_eda.ipynb\" target=\"_parent\"><img src=\"https://colab.research.google.com/assets/colab-badge.svg\" alt=\"Open In Colab\"/></a>"
      ]
    },
    {
      "metadata": {
        "id": "Q0AkfLq-htz5",
        "colab_type": "code",
        "colab": {
          "base_uri": "https://localhost:8080/",
          "height": 34
        },
        "outputId": "b51d85bd-6c3f-4834-bfee-c8a94c5ee3d6"
      },
      "cell_type": "code",
      "source": [
        "from google.colab import drive\n",
        "drive.mount('/content/gdrive')"
      ],
      "execution_count": 1,
      "outputs": [
        {
          "output_type": "stream",
          "text": [
            "Drive already mounted at /content/gdrive; to attempt to forcibly remount, call drive.mount(\"/content/gdrive\", force_remount=True).\n"
          ],
          "name": "stdout"
        }
      ]
    },
    {
      "metadata": {
        "id": "nre51wwth9HD",
        "colab_type": "code",
        "colab": {}
      },
      "cell_type": "code",
      "source": [
        "import codecs\n",
        "\n",
        "with codecs.open('/content/gdrive/My Drive/W266/Project/data/parallel/IITB.en-hi.hi', encoding='utf-8') as f:\n",
        "    data_hi = f.read()\n",
        "\n",
        "with codecs.open('/content/gdrive/My Drive/W266/Project/data/parallel/IITB.en-hi.en', encoding='utf-8') as f:\n",
        "    data_en = f.read()"
      ],
      "execution_count": 0,
      "outputs": []
    },
    {
      "metadata": {
        "id": "sm-Oadm2nBnK",
        "colab_type": "code",
        "colab": {
          "base_uri": "https://localhost:8080/",
          "height": 34
        },
        "outputId": "294a736e-5777-45fa-9a84-1e0946854ae5"
      },
      "cell_type": "code",
      "source": [
        "en_rows=data_en.split(\"\\n\")\n",
        "hi_rows=data_hi.split(\"\\n\")\n",
        "(len(hi_rows),len(en_rows))"
      ],
      "execution_count": 3,
      "outputs": [
        {
          "output_type": "execute_result",
          "data": {
            "text/plain": [
              "(1561841, 1561841)"
            ]
          },
          "metadata": {
            "tags": []
          },
          "execution_count": 3
        }
      ]
    },
    {
      "metadata": {
        "id": "Qkk__fScl-n-",
        "colab_type": "code",
        "colab": {}
      },
      "cell_type": "code",
      "source": [
        "en_lengths = {}\n",
        "hi_lengths = {}"
      ],
      "execution_count": 0,
      "outputs": []
    },
    {
      "metadata": {
        "id": "ib5tMHlulzCj",
        "colab_type": "code",
        "colab": {}
      },
      "cell_type": "code",
      "source": [
        "for line in hi_rows:\n",
        "  sent_len = len(line.split(' '))\n",
        "  if (hi_lengths.__contains__(sent_len)):\n",
        "    hi_lengths[sent_len] = int(hi_lengths.get(sent_len))+1\n",
        "  else:\n",
        "    hi_lengths[sent_len] = 1\n",
        "  "
      ],
      "execution_count": 0,
      "outputs": []
    },
    {
      "metadata": {
        "id": "N6ni4Qzso8yB",
        "colab_type": "code",
        "colab": {}
      },
      "cell_type": "code",
      "source": [
        "for line in en_rows:\n",
        "  sent_len = len(line.split(' '))\n",
        "  if (en_lengths.__contains__(sent_len)):\n",
        "    en_lengths[sent_len] = int(en_lengths.get(sent_len))+1\n",
        "  else:\n",
        "    en_lengths[sent_len] = 1"
      ],
      "execution_count": 0,
      "outputs": []
    },
    {
      "metadata": {
        "id": "SW5KVDDwnxjl",
        "colab_type": "code",
        "colab": {}
      },
      "cell_type": "code",
      "source": [
        "sorted_hi = sorted([[length, counts] for length, counts in hi_lengths.items()], key = lambda x: x[0])\n",
        "sorted_en = sorted([[length, counts] for length, counts in en_lengths.items()], key = lambda x: x[0])\n"
      ],
      "execution_count": 0,
      "outputs": []
    },
    {
      "metadata": {
        "id": "xLZiJwemtr29",
        "colab_type": "code",
        "colab": {
          "base_uri": "https://localhost:8080/",
          "height": 71
        },
        "outputId": "7ddd6798-0a97-4908-d9f3-bb1a57a08d40"
      },
      "cell_type": "code",
      "source": [
        "# Print percentage of sentences that have length < 15\n",
        "h_counts_pct = [x[1]/len(hi_rows) for x in sorted_hi]\n",
        "e_counts_pct = [x[1]/len(en_rows) for x in sorted_en]\n",
        "\n",
        "print(\"Hindi\", sum(h_counts_pct[:15]), h_counts_pct[:15])\n",
        "print(\"English\", sum(e_counts_pct[:15]), e_counts_pct[:15])"
      ],
      "execution_count": 16,
      "outputs": [
        {
          "output_type": "stream",
          "text": [
            "Hindi 0.6674904807851761 [0.16787432267433114, 0.09035490808603437, 0.050892504422665304, 0.03937468666784903, 0.034230116894101256, 0.03142317303746028, 0.03110495882743506, 0.030877022693091036, 0.03021818482163037, 0.030951294017764933, 0.02903944767745244, 0.02746886526861569, 0.026422023752737955, 0.024452553108799166, 0.022806418835207936]\n",
            "English 0.7043969264476986 [0.17414448717891257, 0.1017453121028325, 0.0583977498349704, 0.040178225568415736, 0.035027893364305326, 0.0344561322183244, 0.034340243341031515, 0.03385619919057062, 0.03231442893354701, 0.030932085916556166, 0.029737982291411225, 0.02756234469449835, 0.025762545611236996, 0.024051103793535963, 0.02189019240754981]\n"
          ],
          "name": "stdout"
        }
      ]
    },
    {
      "metadata": {
        "id": "eXErt2AwoGIu",
        "colab_type": "code",
        "colab": {
          "base_uri": "https://localhost:8080/",
          "height": 362
        },
        "outputId": "404f3560-2382-406e-e250-5dbc8d0a6f19"
      },
      "cell_type": "code",
      "source": [
        "import matplotlib.pyplot as plt\n",
        "lens = [x[0] for x in sorted_hi]\n",
        "counts = [x[1] for x in sorted_hi]\n",
        "\n",
        "plt.bar(range(len(hi_lengths)), counts, align = 'center')\n",
        "plt.title('Hindi: Frequency count by sentence length')\n",
        "plt.show()"
      ],
      "execution_count": 9,
      "outputs": [
        {
          "output_type": "display_data",
          "data": {
            "image/png": "[encoded data removed]",
            "text/plain": [
              "<Figure size 576x396 with 1 Axes>"
            ]
          },
          "metadata": {
            "tags": []
          }
        }
      ]
    },
    {
      "metadata": {
        "id": "FmgD_3M1pU97",
        "colab_type": "code",
        "colab": {
          "base_uri": "https://localhost:8080/",
          "height": 362
        },
        "outputId": "94a09281-8f92-4008-ae8b-28a902147eb9"
      },
      "cell_type": "code",
      "source": [
        "import matplotlib.pyplot as plt\n",
        "lens = [x[0] for x in sorted_en]\n",
        "counts = [x[1] for x in sorted_en]\n",
        "\n",
        "plt.bar(range(len(en_lengths)), counts, align = 'center')\n",
        "plt.title('English: Frequency count by sentence length')\n",
        "plt.show()"
      ],
      "execution_count": 10,
      "outputs": [
        {
          "output_type": "display_data",
          "data": {
            "image/png": "[encoded data removed]",
            "text/plain": [
              "<Figure size 576x396 with 1 Axes>"
            ]
          },
          "metadata": {
            "tags": []
          }
        }
      ]
    },
    {
      "metadata": {
        "id": "Hrmv-q7qqicc",
        "colab_type": "code",
        "colab": {}
      },
      "cell_type": "code",
      "source": [
        "from collections import Counter\n",
        "en_vocab_dict = Counter(word.strip(',.%\" ;:)(][?!') for sentence in en_rows for word in sentence.split())\n",
        "hi_vocab_dict = Counter(\n",
        "    word.strip(',.%\" ;:)(।|][?!<>a-zA-Z') for sentence in hi_rows for word in sentence.split())\n",
        "\n",
        "en_vocab = list(map(lambda x: x[0], sorted(en_vocab_dict.items(), key=lambda x: -x[1])))\n",
        "hi_vocab = list(map(lambda x: x[0], sorted(hi_vocab_dict.items(), key=lambda x: -x[1])))"
      ],
      "execution_count": 0,
      "outputs": []
    },
    {
      "metadata": {
        "id": "qflhTIDxrvz0",
        "colab_type": "code",
        "colab": {}
      },
      "cell_type": "code",
      "source": [
        ""
      ],
      "execution_count": 0,
      "outputs": []
    },
    {
      "metadata": {
        "id": "wLItPpU0q09u",
        "colab_type": "code",
        "colab": {
          "base_uri": "https://localhost:8080/",
          "height": 34
        },
        "outputId": "77abe0ea-82ea-4841-b439-aefdfb1fa6d3"
      },
      "cell_type": "code",
      "source": [
        "print(\"Hindi vocab size:\", len(hi_vocab), \" || English vocab size:\", len(en_vocab))"
      ],
      "execution_count": 12,
      "outputs": [
        {
          "output_type": "stream",
          "text": [
            "Hindi vocab size: 435842  || English vocab size: 286561\n"
          ],
          "name": "stdout"
        }
      ]
    }
  ]
}