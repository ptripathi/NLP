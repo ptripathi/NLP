{
  "nbformat": 4,
  "nbformat_minor": 0,
  "metadata": {
    "colab": {
      "name": "corpus_eda.ipynb",
      "version": "0.3.2",
      "provenance": [],
      "collapsed_sections": [],
      "toc_visible": true,
      "include_colab_link": true
    },
    "kernelspec": {
      "name": "python3",
      "display_name": "Python 3"
    }
  },
  "cells": [
    {
      "cell_type": "markdown",
      "metadata": {
        "id": "view-in-github",
        "colab_type": "text"
      },
      "source": [
        "<a href=\"https://colab.research.google.com/github/ptripathi/NLP/blob/master/corpus_eda.ipynb\" target=\"_parent\"><img src=\"https://colab.research.google.com/assets/colab-badge.svg\" alt=\"Open In Colab\"/></a>"
      ]
    },
    {
      "metadata": {
        "id": "Q0AkfLq-htz5",
        "colab_type": "code",
        "outputId": "6b14dd28-a698-4fda-a848-3461ca43c06f",
        "colab": {
          "base_uri": "https://localhost:8080/",
          "height": 34
        }
      },
      "cell_type": "code",
      "source": [
        "from google.colab import drive\n",
        "drive.mount('/content/gdrive')"
      ],
      "execution_count": 110,
      "outputs": [
        {
          "output_type": "stream",
          "text": [
            "Drive already mounted at /content/gdrive; to attempt to forcibly remount, call drive.mount(\"/content/gdrive\", force_remount=True).\n"
          ],
          "name": "stdout"
        }
      ]
    },
    {
      "metadata": {
        "id": "nre51wwth9HD",
        "colab_type": "code",
        "colab": {}
      },
      "cell_type": "code",
      "source": [
        "import codecs\n",
        "\n",
        "with codecs.open('/content/gdrive/My Drive/W266/Project/data/parallel/IITB.en-hi.hi', encoding='utf-8') as f:\n",
        "    data_hi = f.read()\n",
        "\n",
        "with codecs.open('/content/gdrive/My Drive/W266/Project/data/parallel/IITB.en-hi.en', encoding='utf-8') as f:\n",
        "    data_en = f.read()"
      ],
      "execution_count": 0,
      "outputs": []
    },
    {
      "metadata": {
        "id": "sm-Oadm2nBnK",
        "colab_type": "code",
        "outputId": "2590e3a4-54ad-4ae8-d214-02a33b57dd26",
        "colab": {
          "base_uri": "https://localhost:8080/",
          "height": 34
        }
      },
      "cell_type": "code",
      "source": [
        "en_rows_all=data_en.split(\"\\n\")\n",
        "hi_rows_all=data_hi.split(\"\\n\")\n",
        "(len(hi_rows),len(en_rows))"
      ],
      "execution_count": 112,
      "outputs": [
        {
          "output_type": "execute_result",
          "data": {
            "text/plain": [
              "(10, 10)"
            ]
          },
          "metadata": {
            "tags": []
          },
          "execution_count": 112
        }
      ]
    },
    {
      "metadata": {
        "id": "qxY__4FATwh4",
        "colab_type": "code",
        "colab": {}
      },
      "cell_type": "code",
      "source": [
        "en_rows = []\n",
        "hi_rows = []\n",
        "for n in range(len(en_rows_all)):\n",
        "  en_rows.append(en_rows_all[n].lower())\n",
        "  hi_rows.append(hi_rows_all[n].lower())\n"
      ],
      "execution_count": 0,
      "outputs": []
    },
    {
      "metadata": {
        "id": "JC-iHfX8bWVF",
        "colab_type": "code",
        "outputId": "2fb7736a-f4b5-4185-f2d8-f9dc7a01a5d7",
        "colab": {
          "base_uri": "https://localhost:8080/",
          "height": 697
        }
      },
      "cell_type": "code",
      "source": [
        "for n in range(10,20):\n",
        "  print(en_rows[n], \"\\n\")\n",
        "  print(hi_rows[n], \"\\n\")"
      ],
      "execution_count": 114,
      "outputs": [
        {
          "output_type": "stream",
          "text": [
            "the color and opacity of the highlight fill. \n",
            "\n",
            "हाइलाइट किया गया भराई का रंग और पारदर्शिता।  \n",
            "\n",
            "api browser \n",
            "\n",
            "एपीआई विचरक \n",
            "\n",
            "browse the various methods of the current accessible \n",
            "\n",
            "इस समय जिसे प्राप्त किया गया हो, उसकी विभिन्न विधियों (मेथड) में विचरण करें \n",
            "\n",
            "hide private attributes \n",
            "\n",
            "निजी गुणों को छिपाएं \n",
            "\n",
            "method \n",
            "\n",
            "विधि \n",
            "\n",
            "property \n",
            "\n",
            "गुणधर्म \n",
            "\n",
            "value \n",
            "\n",
            "मान \n",
            "\n",
            "ipython console \n",
            "\n",
            "आईपाइथन कन्सोल \n",
            "\n",
            "interactive console for manipulating currently selected accessible \n",
            "\n",
            "इस समय चुने गए एक्सेसेबेल से काम लेने के लिए अंतर्क्रियात्मक कन्सोल \n",
            "\n",
            "event monitor \n",
            "\n",
            "घटना मानिटर \n",
            "\n"
          ],
          "name": "stdout"
        }
      ]
    },
    {
      "metadata": {
        "id": "QULGcluWbsvJ",
        "colab_type": "text"
      },
      "cell_type": "markdown",
      "source": [
        "**We see that not all entries in the corpus are sentences...some are sentence segment or phrase only.**"
      ]
    },
    {
      "metadata": {
        "id": "Qkk__fScl-n-",
        "colab_type": "code",
        "colab": {}
      },
      "cell_type": "code",
      "source": [
        "en_lengths = {}\n",
        "hi_lengths = {}"
      ],
      "execution_count": 0,
      "outputs": []
    },
    {
      "metadata": {
        "id": "ib5tMHlulzCj",
        "colab_type": "code",
        "colab": {}
      },
      "cell_type": "code",
      "source": [
        "for line in hi_rows:\n",
        "  sent_len = len(line.split(' '))\n",
        "  if (hi_lengths.__contains__(sent_len)):\n",
        "    hi_lengths[sent_len] = int(hi_lengths.get(sent_len))+1\n",
        "  else:\n",
        "    hi_lengths[sent_len] = 1\n",
        "  "
      ],
      "execution_count": 0,
      "outputs": []
    },
    {
      "metadata": {
        "id": "N6ni4Qzso8yB",
        "colab_type": "code",
        "colab": {}
      },
      "cell_type": "code",
      "source": [
        "for line in en_rows:\n",
        "  sent_len = len(line.split(' '))\n",
        "  if (en_lengths.__contains__(sent_len)):\n",
        "    en_lengths[sent_len] = int(en_lengths.get(sent_len))+1\n",
        "  else:\n",
        "    en_lengths[sent_len] = 1"
      ],
      "execution_count": 0,
      "outputs": []
    },
    {
      "metadata": {
        "id": "SW5KVDDwnxjl",
        "colab_type": "code",
        "colab": {}
      },
      "cell_type": "code",
      "source": [
        "sorted_hi = sorted([[length, counts] for length, counts in hi_lengths.items()], key = lambda x: x[0])\n",
        "sorted_en = sorted([[length, counts] for length, counts in en_lengths.items()], key = lambda x: x[0])\n"
      ],
      "execution_count": 0,
      "outputs": []
    },
    {
      "metadata": {
        "id": "xLZiJwemtr29",
        "colab_type": "code",
        "outputId": "b7731ea8-c85f-4435-e1a8-33453d72e8d7",
        "colab": {
          "base_uri": "https://localhost:8080/",
          "height": 71
        }
      },
      "cell_type": "code",
      "source": [
        "# Print percentage of sentences that have length < 15\n",
        "h_counts_pct = [x[1]/len(hi_rows) for x in sorted_hi]\n",
        "e_counts_pct = [x[1]/len(en_rows) for x in sorted_en]\n",
        "\n",
        "print(\"Hindi\", sum(h_counts_pct[:15]), h_counts_pct[:15])\n",
        "print(\"English\", sum(e_counts_pct[:15]), e_counts_pct[:15])"
      ],
      "execution_count": 119,
      "outputs": [
        {
          "output_type": "stream",
          "text": [
            "Hindi 0.6674904807851761 [0.16787432267433114, 0.09035490808603437, 0.050892504422665304, 0.03937468666784903, 0.034230116894101256, 0.03142317303746028, 0.03110495882743506, 0.030877022693091036, 0.03021818482163037, 0.030951294017764933, 0.02903944767745244, 0.02746886526861569, 0.026422023752737955, 0.024452553108799166, 0.022806418835207936]\n",
            "English 0.7043969264476986 [0.17414448717891257, 0.1017453121028325, 0.0583977498349704, 0.040178225568415736, 0.035027893364305326, 0.0344561322183244, 0.034340243341031515, 0.03385619919057062, 0.03231442893354701, 0.030932085916556166, 0.029737982291411225, 0.02756234469449835, 0.025762545611236996, 0.024051103793535963, 0.02189019240754981]\n"
          ],
          "name": "stdout"
        }
      ]
    },
    {
      "metadata": {
        "id": "eXErt2AwoGIu",
        "colab_type": "code",
        "outputId": "c39d2240-12e9-46f3-d84d-34e57077b514",
        "colab": {
          "base_uri": "https://localhost:8080/",
          "height": 281
        }
      },
      "cell_type": "code",
      "source": [
        "import matplotlib.pyplot as plt\n",
        "lens = [x[0] for x in sorted_hi]\n",
        "counts = [x[1] for x in sorted_hi]\n",
        "\n",
        "plt.bar(range(len(hi_lengths)), counts, align = 'center')\n",
        "plt.title('Hindi: Frequency count by sentence length')\n",
        "plt.show()"
      ],
      "execution_count": 120,
      "outputs": [
        {
          "output_type": "display_data",
          "data": {
            "image/png": "[encoded data removed]",
            "text/plain": [
              "<Figure size 432x288 with 1 Axes>"
            ]
          },
          "metadata": {
            "tags": []
          }
        }
      ]
    },
    {
      "metadata": {
        "id": "A5INnMzxUF5U",
        "colab_type": "text"
      },
      "cell_type": "markdown",
      "source": [
        ""
      ]
    },
    {
      "metadata": {
        "id": "FmgD_3M1pU97",
        "colab_type": "code",
        "outputId": "b1575c8f-ae95-49e1-c0ef-de74964c3f37",
        "colab": {
          "base_uri": "https://localhost:8080/",
          "height": 281
        }
      },
      "cell_type": "code",
      "source": [
        "import matplotlib.pyplot as plt\n",
        "lens = [x[0] for x in sorted_en]\n",
        "counts = [x[1] for x in sorted_en]\n",
        "\n",
        "plt.bar(range(len(en_lengths)), counts, align = 'center')\n",
        "plt.title('English: Frequency count by sentence length')\n",
        "plt.show()"
      ],
      "execution_count": 121,
      "outputs": [
        {
          "output_type": "display_data",
          "data": {
            "image/png": "[encoded data removed]",
            "text/plain": [
              "<Figure size 432x288 with 1 Axes>"
            ]
          },
          "metadata": {
            "tags": []
          }
        }
      ]
    },
    {
      "metadata": {
        "id": "RgU_3NAEVPSY",
        "colab_type": "code",
        "colab": {}
      },
      "cell_type": "code",
      "source": [
        ""
      ],
      "execution_count": 0,
      "outputs": []
    },
    {
      "metadata": {
        "id": "qSevZID8a3cj",
        "colab_type": "text"
      },
      "cell_type": "markdown",
      "source": [
        "## Find rare words in the vocab and their portion in the corpus"
      ]
    },
    {
      "metadata": {
        "id": "Hrmv-q7qqicc",
        "colab_type": "code",
        "colab": {}
      },
      "cell_type": "code",
      "source": [
        "from collections import Counter\n",
        "en_vocab_dict = Counter(word.strip(',.%\" ;:)(][?!') for sentence in en_rows for word in sentence.split())\n",
        "hi_vocab_dict = Counter(\n",
        "    word.strip(',.%\" ;:)(।|][?!<>a-zA-Z') for sentence in hi_rows for word in sentence.split())\n",
        "\n",
        "en_vocab = list(map(lambda x: x[0], sorted(en_vocab_dict.items(), key=lambda x: -x[1])))\n",
        "hi_vocab = list(map(lambda x: x[0], sorted(hi_vocab_dict.items(), key=lambda x: -x[1])))"
      ],
      "execution_count": 0,
      "outputs": []
    },
    {
      "metadata": {
        "id": "7Og1l462bLgm",
        "colab_type": "code",
        "outputId": "ab020045-8886-45b4-b0f1-6075ed4924d1",
        "colab": {
          "base_uri": "https://localhost:8080/",
          "height": 34
        }
      },
      "cell_type": "code",
      "source": [
        "print(\"Hindi vocab size:\", len(hi_vocab), \" || English vocab size:\", len(en_vocab))"
      ],
      "execution_count": 123,
      "outputs": [
        {
          "output_type": "stream",
          "text": [
            "Hindi vocab size: 433545  || English vocab size: 234605\n"
          ],
          "name": "stdout"
        }
      ]
    },
    {
      "metadata": {
        "id": "qflhTIDxrvz0",
        "colab_type": "code",
        "colab": {}
      },
      "cell_type": "code",
      "source": [
        "import data_prep;\n",
        "en_vocab_dict = data_prep.buildEngVocab(en_rows)\n",
        "hi_vocab_dict = data_prep.buildHinVocab(hi_rows)"
      ],
      "execution_count": 0,
      "outputs": []
    },
    {
      "metadata": {
        "id": "jjrk8iXFlX94",
        "colab_type": "code",
        "outputId": "5ebb5917-0257-434c-9a05-3126b471a3cf",
        "colab": {
          "base_uri": "https://localhost:8080/",
          "height": 51
        }
      },
      "cell_type": "code",
      "source": [
        "print({k: en_vocab_dict[k] for k in list(en_vocab_dict)[:10]})\n",
        "print({k: hi_vocab_dict[k] for k in list(hi_vocab_dict)[:10]})"
      ],
      "execution_count": 125,
      "outputs": [
        {
          "output_type": "stream",
          "text": [
            "{'give': 11407, 'your': 55399, 'application': 4787, 'an': 63175, 'accessibility': 244, 'workout': 18, 'accerciser': 37, 'explorer': 110, 'the': 1180146, 'default': 3247}\n",
            "{'अपने': 77576, 'अनुप्रयोग': 2098, 'को': 316660, 'पहुंचनीयता': 48, 'व्यायाम': 323, 'का': 281893, 'लाभ': 5837, 'दें': 5825, 'एक्सेर्साइसर': 29, 'अन्वेषक': 85}\n"
          ],
          "name": "stdout"
        }
      ]
    },
    {
      "metadata": {
        "id": "W_M1jTp-YtlP",
        "colab_type": "code",
        "outputId": "47beba06-74d6-4b81-8db3-b809a06bdb50",
        "colab": {
          "base_uri": "https://localhost:8080/",
          "height": 34
        }
      },
      "cell_type": "code",
      "source": [
        "rare_words_en = sum(1 for x in en_vocab_dict.values() if x == 1)\n",
        "(rare_words_en, rare_words_en/len(en_vocab_dict))"
      ],
      "execution_count": 126,
      "outputs": [
        {
          "output_type": "execute_result",
          "data": {
            "text/plain": [
              "(102112, 0.43525074060655145)"
            ]
          },
          "metadata": {
            "tags": []
          },
          "execution_count": 126
        }
      ]
    },
    {
      "metadata": {
        "id": "5EbfUSPcUpbZ",
        "colab_type": "code",
        "colab": {
          "base_uri": "https://localhost:8080/",
          "height": 34
        },
        "outputId": "83f94808-79ab-4346-d553-545e02f075bc"
      },
      "cell_type": "code",
      "source": [
        "len(hi_vocab_dict)"
      ],
      "execution_count": 127,
      "outputs": [
        {
          "output_type": "execute_result",
          "data": {
            "text/plain": [
              "433545"
            ]
          },
          "metadata": {
            "tags": []
          },
          "execution_count": 127
        }
      ]
    },
    {
      "metadata": {
        "id": "FJOi724ga9i9",
        "colab_type": "text"
      },
      "cell_type": "markdown",
      "source": [
        "We see that ~45% of the words are rare."
      ]
    },
    {
      "metadata": {
        "id": "XNUxdJ7GaCHG",
        "colab_type": "code",
        "outputId": "535f1806-b712-4ca7-8b8c-fe3e4418d97e",
        "colab": {
          "base_uri": "https://localhost:8080/",
          "height": 34
        }
      },
      "cell_type": "code",
      "source": [
        "rare_words_hi = sum(1 for x in hi_vocab_dict.values() if x == 1)\n",
        "(rare_words_hi, rare_words_hi/len(hi_vocab_dict))"
      ],
      "execution_count": 128,
      "outputs": [
        {
          "output_type": "execute_result",
          "data": {
            "text/plain": [
              "(228761, 0.5276522621642505)"
            ]
          },
          "metadata": {
            "tags": []
          },
          "execution_count": 128
        }
      ]
    },
    {
      "metadata": {
        "id": "x4PtQWzpbCgK",
        "colab_type": "text"
      },
      "cell_type": "markdown",
      "source": [
        "We see that over 97% of the words are rare."
      ]
    },
    {
      "metadata": {
        "id": "21mphXqaWxzP",
        "colab_type": "code",
        "colab": {}
      },
      "cell_type": "code",
      "source": [
        "en_vocab = list(map(lambda x: x[0], sorted(en_vocab_dict.items(), key=lambda x: -x[1])))\n",
        "hi_vocab = list(map(lambda x: x[0], sorted(hi_vocab_dict.items(), key=lambda x: -x[1])))\n",
        "    "
      ],
      "execution_count": 0,
      "outputs": []
    }
  ]
}